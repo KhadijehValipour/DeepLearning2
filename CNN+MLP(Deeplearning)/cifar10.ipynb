{
  "nbformat": 4,
  "nbformat_minor": 0,
  "metadata": {
    "colab": {
      "provenance": [],
      "gpuType": "T4"
    },
    "kernelspec": {
      "name": "python3",
      "display_name": "Python 3"
    },
    "language_info": {
      "name": "python"
    },
    "accelerator": "GPU"
  },
  "cells": [
    {
      "cell_type": "code",
      "source": [
        "import tensorflow as tf\n"
      ],
      "metadata": {
        "id": "s_zB96yHdezf"
      },
      "execution_count": 2,
      "outputs": []
    },
    {
      "cell_type": "code",
      "source": [
        "CIFAR10 = tf.keras.datasets.cifar10\n",
        "\n",
        "(x_train , y_train),(x_test , y_test) = CIFAR10.load_data()\n",
        "x_train , x_test = x_train / 255.0 , x_test / 255.0"
      ],
      "metadata": {
        "id": "fl5Bfmabga-a"
      },
      "execution_count": 3,
      "outputs": []
    },
    {
      "cell_type": "code",
      "source": [
        "x_train[0].shape"
      ],
      "metadata": {
        "colab": {
          "base_uri": "https://localhost:8080/"
        },
        "id": "uQQC98M9lyNC",
        "outputId": "9058a50c-33d7-4d62-c69f-9ec5e6f800d7"
      },
      "execution_count": 4,
      "outputs": [
        {
          "output_type": "execute_result",
          "data": {
            "text/plain": [
              "(32, 32, 3)"
            ]
          },
          "metadata": {},
          "execution_count": 4
        }
      ]
    },
    {
      "cell_type": "code",
      "source": [
        "model = tf.keras.models.Sequential([\n",
        "    tf.keras.layers.Conv2D(64, (3,3) , activation = 'relu'),\n",
        "    tf.keras.layers.Conv2D(40 , (3,3) , activation = 'relu'),\n",
        "    tf.keras.layers.MaxPooling2D(),\n",
        "    tf.keras.layers.Conv2D(63 , (3,3) , activation = 'relu'),\n",
        "    tf.keras.layers.Conv2D(32 , (3,3) , activation = 'relu'),\n",
        "    tf.keras.layers.MaxPooling2D(),\n",
        "    tf.keras.layers.Dropout(0.2),\n",
        "    tf.keras.layers.Flatten(),\n",
        "\n",
        "\n",
        "    # machine learning\n",
        "    tf.keras.layers.Dense(128, activation = 'relu'),\n",
        "    tf.keras.layers.Dropout(0.25),\n",
        "    tf.keras.layers.Dense(10,activation='softmax')\n",
        "])"
      ],
      "metadata": {
        "id": "OJ7HHYYVg9GQ"
      },
      "execution_count": 13,
      "outputs": []
    },
    {
      "cell_type": "code",
      "source": [
        "model.compile(optimizer='adam',\n",
        "              loss = 'sparse_categorical_crossentropy',\n",
        "              metrics=['accuracy'])\n",
        "\n",
        "model.fit(x_train,y_train,epochs=20)\n",
        "model.evaluate(x_test,y_test)"
      ],
      "metadata": {
        "colab": {
          "base_uri": "https://localhost:8080/"
        },
        "id": "62hPUKEccxMW",
        "outputId": "3361f606-dfc8-450b-a8bd-5d6dc5e55e97"
      },
      "execution_count": 16,
      "outputs": [
        {
          "output_type": "stream",
          "name": "stdout",
          "text": [
            "Epoch 1/20\n",
            "1563/1563 [==============================] - 12s 6ms/step - loss: 0.5710 - accuracy: 0.7971\n",
            "Epoch 2/20\n",
            "1563/1563 [==============================] - 9s 6ms/step - loss: 0.5609 - accuracy: 0.8019\n",
            "Epoch 3/20\n",
            "1563/1563 [==============================] - 9s 6ms/step - loss: 0.5433 - accuracy: 0.8065\n",
            "Epoch 4/20\n",
            "1563/1563 [==============================] - 10s 6ms/step - loss: 0.5359 - accuracy: 0.8092\n",
            "Epoch 5/20\n",
            "1563/1563 [==============================] - 9s 6ms/step - loss: 0.5225 - accuracy: 0.8143\n",
            "Epoch 6/20\n",
            "1563/1563 [==============================] - 9s 6ms/step - loss: 0.5140 - accuracy: 0.8168\n",
            "Epoch 7/20\n",
            "1563/1563 [==============================] - 9s 6ms/step - loss: 0.5054 - accuracy: 0.8171\n",
            "Epoch 8/20\n",
            "1563/1563 [==============================] - 9s 6ms/step - loss: 0.4924 - accuracy: 0.8251\n",
            "Epoch 9/20\n",
            "1563/1563 [==============================] - 9s 6ms/step - loss: 0.4867 - accuracy: 0.8266\n",
            "Epoch 10/20\n",
            "1563/1563 [==============================] - 10s 6ms/step - loss: 0.4791 - accuracy: 0.8299\n",
            "Epoch 11/20\n",
            "1563/1563 [==============================] - 9s 6ms/step - loss: 0.4706 - accuracy: 0.8316\n",
            "Epoch 12/20\n",
            "1563/1563 [==============================] - 9s 6ms/step - loss: 0.4631 - accuracy: 0.8326\n",
            "Epoch 13/20\n",
            "1563/1563 [==============================] - 9s 6ms/step - loss: 0.4600 - accuracy: 0.8364\n",
            "Epoch 14/20\n",
            "1563/1563 [==============================] - 9s 6ms/step - loss: 0.4548 - accuracy: 0.8362\n",
            "Epoch 15/20\n",
            "1563/1563 [==============================] - 9s 6ms/step - loss: 0.4454 - accuracy: 0.8403\n",
            "Epoch 16/20\n",
            "1563/1563 [==============================] - 9s 6ms/step - loss: 0.4402 - accuracy: 0.8425\n",
            "Epoch 17/20\n",
            "1563/1563 [==============================] - 9s 6ms/step - loss: 0.4334 - accuracy: 0.8445\n",
            "Epoch 18/20\n",
            "1563/1563 [==============================] - 9s 6ms/step - loss: 0.4251 - accuracy: 0.8478\n",
            "Epoch 19/20\n",
            "1563/1563 [==============================] - 9s 6ms/step - loss: 0.4294 - accuracy: 0.8449\n",
            "Epoch 20/20\n",
            "1563/1563 [==============================] - 9s 6ms/step - loss: 0.4149 - accuracy: 0.8518\n",
            "313/313 [==============================] - 1s 3ms/step - loss: 0.7838 - accuracy: 0.7608\n"
          ]
        },
        {
          "output_type": "execute_result",
          "data": {
            "text/plain": [
              "[0.7838061451911926, 0.7608000040054321]"
            ]
          },
          "metadata": {},
          "execution_count": 16
        }
      ]
    }
  ]
}